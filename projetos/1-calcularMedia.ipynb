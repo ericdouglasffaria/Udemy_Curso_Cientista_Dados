{
 "cells": [
  {
   "cell_type": "code",
   "execution_count": 1,
   "metadata": {},
   "outputs": [
    {
     "name": "stdout",
     "output_type": "stream",
     "text": [
      "Sua Média é: 8.67\n",
      "EXCELENTE, Você foi APROVADO(a), GANHOU uma BOLSA de 50%. \n"
     ]
    }
   ],
   "source": [
    "materia = input(\"Digita a Materia: \")\n",
    "notaA = float(input(\"Digita sua nota dos Exercicios.\"))\n",
    "notaB = float(input(\"Digita sua nota do Portifolio.\"))\n",
    "notaC = float(input(\"Digita sua nota da Prova.\"))\n",
    "notaMedia = 7\n",
    "\n",
    "calculoMedia = (notaA + notaB + notaC) / 3\n",
    "print(\"Sua Média é: %.2f\" % calculoMedia)\n",
    "\n",
    "if calculoMedia >= 7 and calculoMedia < 8:\n",
    "    print(\"PARABÉNS, Você foi REPROVADO(a), GANHOU uma BOLSA de 10%. \")\n",
    "elif calculoMedia >= 8 and calculoMedia < 9:\n",
    "    print(\"EXCELENTE, Você foi APROVADO(a), GANHOU uma BOLSA de 50%. \")\n",
    "elif calculoMedia >= 9 and calculoMedia <= 10:\n",
    "    print(\"SENSACIOANL, você foi aprovado(a), GANHOU UMA BOLSA de 80%. \")\n",
    "else:\n",
    "    print(\"INFELIZMENTE, você não foi APROVADO(a), ESTUDE MAIS. \")"
   ]
  }
 ],
 "metadata": {
  "kernelspec": {
   "display_name": "Python 3",
   "language": "python",
   "name": "python3"
  },
  "language_info": {
   "codemirror_mode": {
    "name": "ipython",
    "version": 3
   },
   "file_extension": ".py",
   "mimetype": "text/x-python",
   "name": "python",
   "nbconvert_exporter": "python",
   "pygments_lexer": "ipython3",
   "version": "3.12.2"
  }
 },
 "nbformat": 4,
 "nbformat_minor": 2
}
