{
 "cells": [
  {
   "cell_type": "code",
   "execution_count": 2,
   "metadata": {},
   "outputs": [
    {
     "name": "stdout",
     "output_type": "stream",
     "text": [
      "3º O IMC dessa pessoa é: 39.7 \n",
      "4º Obesidade grau II ou severa, EXTREMO CUIDADO II!\n"
     ]
    }
   ],
   "source": [
    "peso = float(input(\"1º Qual é seu peso? \"))\n",
    "altura = float(input(\"2º Qual é a sua altura? \"))\n",
    "imc = peso / (altura**2)\n",
    "print(\"3º O IMC dessa pessoa é: %.1f \" % imc)\n",
    "\n",
    "if imc < 16:\n",
    "    print(\"4º Magreza grave, CUIDADO III!\")\n",
    "elif 16 <= imc < 16.9:\n",
    "    print(\"4º Magreza moderada, CUIDADO II\")\n",
    "elif 17 <= imc < 18.5:\n",
    "    print(\"4º Magreza leve, CUIDADO I\")\n",
    "elif 18.6 <= imc < 24.9:\n",
    "    print(\"4º Peso ideal, PARABÉNS!\")\n",
    "elif 25 <= imc < 29.9:\n",
    "    print(\"4º Sobrepeso, ATENÇÃO, SE-CUIDE\")\n",
    "elif 30 <= imc < 34.9:\n",
    "    print(\"4º Obesidade grau I, EXTREMO CUIDADO I!\")\n",
    "elif 35 <= imc < 39.9:\n",
    "    print(\"4º Obesidade grau II ou severa, EXTREMO CUIDADO II!\")\n",
    "elif imc >= 40: \n",
    "    print(\"4º Obesidade grau III ou mórbida, EXTREMO CUIDADO III!\")"
   ]
  }
 ],
 "metadata": {
  "kernelspec": {
   "display_name": "Python 3",
   "language": "python",
   "name": "python3"
  },
  "language_info": {
   "codemirror_mode": {
    "name": "ipython",
    "version": 3
   },
   "file_extension": ".py",
   "mimetype": "text/x-python",
   "name": "python",
   "nbconvert_exporter": "python",
   "pygments_lexer": "ipython3",
   "version": "3.12.2"
  }
 },
 "nbformat": 4,
 "nbformat_minor": 2
}
