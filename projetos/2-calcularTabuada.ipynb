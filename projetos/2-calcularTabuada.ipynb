{
 "cells": [
  {
   "cell_type": "code",
   "execution_count": 3,
   "metadata": {},
   "outputs": [
    {
     "name": "stdout",
     "output_type": "stream",
     "text": [
      "____________\n",
      "7 x  1 =  7\n",
      "7 x  2 = 14\n",
      "7 x  3 = 21\n",
      "7 x  4 = 28\n",
      "7 x  5 = 35\n",
      "7 x  6 = 42\n",
      "7 x  7 = 49\n",
      "7 x  8 = 56\n",
      "7 x  9 = 63\n",
      "7 x 10 = 70\n",
      "____________\n"
     ]
    }
   ],
   "source": [
    "num = int(input(\"Digite o Número da sua Tabuada: \"))\n",
    "print(\"_\" *12)\n",
    "\n",
    "print(\"{} x {:2} = {:2}\".format(num, 1, num * 1))\n",
    "print(\"{} x {:2} = {:2}\".format(num, 2, num * 2))\n",
    "print(\"{} x {:2} = {:2}\".format(num, 3, num * 3))\n",
    "print(\"{} x {:2} = {:2}\".format(num, 4, num * 4))\n",
    "print(\"{} x {:2} = {:2}\".format(num, 5, num * 5))\n",
    "print(\"{} x {:2} = {:2}\".format(num, 6, num * 6))\n",
    "print(\"{} x {:2} = {:2}\".format(num, 7, num * 7))\n",
    "print(\"{} x {:2} = {:2}\".format(num, 8, num * 8))\n",
    "print(\"{} x {:2} = {:2}\".format(num, 9, num * 9))\n",
    "print(\"{} x {:2} = {:2}\".format(num, 10, num * 10))\n",
    "print(\"_\" *12)"
   ]
  }
 ],
 "metadata": {
  "kernelspec": {
   "display_name": "Python 3",
   "language": "python",
   "name": "python3"
  },
  "language_info": {
   "codemirror_mode": {
    "name": "ipython",
    "version": 3
   },
   "file_extension": ".py",
   "mimetype": "text/x-python",
   "name": "python",
   "nbconvert_exporter": "python",
   "pygments_lexer": "ipython3",
   "version": "3.12.2"
  }
 },
 "nbformat": 4,
 "nbformat_minor": 2
}
