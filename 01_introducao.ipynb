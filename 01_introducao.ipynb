{
 "cells": [
  {
   "cell_type": "code",
   "execution_count": 3,
   "metadata": {},
   "outputs": [
    {
     "name": "stdout",
     "output_type": "stream",
     "text": [
      "30.0\n"
     ]
    }
   ],
   "source": [
    "x= 10\n",
    "y = 20\n",
    "z = 100\n",
    "w = (x+y) * z / 100\n",
    "print(w)"
   ]
  },
  {
   "cell_type": "code",
   "execution_count": 8,
   "metadata": {},
   "outputs": [
    {
     "name": "stdout",
     "output_type": "stream",
     "text": [
      "<class 'int'>\n",
      "<class 'str'>\n",
      "<class 'float'>\n",
      "<class 'bool'>\n"
     ]
    }
   ],
   "source": [
    "x = 10\n",
    "type (x)\n",
    "print(type(x))\n",
    "\n",
    "x = '10'\n",
    "type (x)\n",
    "print(type(x))\n",
    "\n",
    "x = 10.1\n",
    "type (x)\n",
    "print(type(x))\n",
    "\n",
    "x = True\n",
    "type (x)\n",
    "print(type(x))"
   ]
  },
  {
   "cell_type": "code",
   "execution_count": 11,
   "metadata": {},
   "outputs": [
    {
     "name": "stdout",
     "output_type": "stream",
     "text": [
      "30\n"
     ]
    }
   ],
   "source": [
    "x = int (input('Digita um valor 1:'))\n",
    "y = int (input('Digita um valor 2:'))\n",
    "z = (x + y)\n",
    "print(z)"
   ]
  },
  {
   "cell_type": "code",
   "execution_count": 38,
   "metadata": {},
   "outputs": [
    {
     "name": "stdout",
     "output_type": "stream",
     "text": [
      "1.0\n",
      "REPROVADO\n"
     ]
    }
   ],
   "source": [
    "n1 = int(input('Digita o primeiro nota:'))\n",
    "n2 = int(input('Digita o segundo nota:'))\n",
    "n3 = int(input('Digita a terceira nota:'))\n",
    "\n",
    "med = 7\n",
    "res = (n1 + n2 + n3) / 3\n",
    "print(res)\n",
    "\n",
    "if res >= med:\n",
    "    print('APROVADO')\n",
    "elif res < 7 and res >= 5:\n",
    "    print('RECUPERAÇÃO')\n",
    "else:\n",
    "    print('REPROVADO')"
   ]
  },
  {
   "cell_type": "code",
   "execution_count": 45,
   "metadata": {},
   "outputs": [
    {
     "name": "stdout",
     "output_type": "stream",
     "text": [
      "1\n",
      "2\n",
      "3\n",
      "4\n",
      "5\n"
     ]
    }
   ],
   "source": [
    "count = 1\n",
    "while count <=5:\n",
    "    print(count)\n",
    "    count += 1"
   ]
  },
  {
   "cell_type": "code",
   "execution_count": 46,
   "metadata": {},
   "outputs": [
    {
     "name": "stdout",
     "output_type": "stream",
     "text": [
      "[12 34 26 18 10]\n",
      "int32\n"
     ]
    }
   ],
   "source": [
    "import numpy as np\n",
    "\n",
    "a = np.array ([12,34,26,18,10])\n",
    "print(a)\n",
    "print(a.dtype)"
   ]
  },
  {
   "cell_type": "code",
   "execution_count": 49,
   "metadata": {},
   "outputs": [
    {
     "name": "stdout",
     "output_type": "stream",
     "text": [
      "9\n"
     ]
    }
   ],
   "source": [
    "def potencia (n):\n",
    "    return n * n\n",
    "\n",
    "x = potencia(3)\n",
    "print(x)"
   ]
  },
  {
   "cell_type": "code",
   "execution_count": 51,
   "metadata": {},
   "outputs": [
    {
     "name": "stdout",
     "output_type": "stream",
     "text": [
      "imprime o texto\n"
     ]
    }
   ],
   "source": [
    "def imprime (n):\n",
    "    print(n)\n",
    "    \n",
    "imprime('imprime o texto')"
   ]
  },
  {
   "cell_type": "code",
   "execution_count": 52,
   "metadata": {},
   "outputs": [
    {
     "name": "stdout",
     "output_type": "stream",
     "text": [
      "1\n",
      "2\n",
      "3\n",
      "4\n",
      "5\n",
      "6\n",
      "7\n",
      "8\n",
      "9\n",
      "1\n",
      "2\n",
      "3\n",
      "4\n",
      "5\n",
      "6\n",
      "7\n",
      "8\n",
      "9\n"
     ]
    }
   ],
   "source": [
    "def intervalo (inic=1, fim=10):\n",
    "    for inic in range(1, 10):\n",
    "        print(inic)\n",
    "\n",
    "intervalo(1, 10)\n",
    "intervalo()"
   ]
  },
  {
   "cell_type": "code",
   "execution_count": 57,
   "metadata": {},
   "outputs": [
    {
     "name": "stdout",
     "output_type": "stream",
     "text": [
      "[[0.69189699]\n",
      " [0.13332072]\n",
      " [0.58202387]\n",
      " [0.56248894]\n",
      " [0.8318291 ]]\n"
     ]
    }
   ],
   "source": [
    "from numpy import*\n",
    "\n",
    "a = random.random((5,1))\n",
    "print(a)"
   ]
  }
 ],
 "metadata": {
  "kernelspec": {
   "display_name": "Python 3",
   "language": "python",
   "name": "python3"
  },
  "language_info": {
   "codemirror_mode": {
    "name": "ipython",
    "version": 3
   },
   "file_extension": ".py",
   "mimetype": "text/x-python",
   "name": "python",
   "nbconvert_exporter": "python",
   "pygments_lexer": "ipython3",
   "version": "3.12.2"
  }
 },
 "nbformat": 4,
 "nbformat_minor": 2
}
